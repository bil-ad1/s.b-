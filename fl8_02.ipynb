{
  "nbformat": 4,
  "nbformat_minor": 0,
  "metadata": {
    "colab": {
      "name": "fl8_02.ipynb",
      "provenance": [],
      "collapsed_sections": []
    },
    "kernelspec": {
      "name": "python3",
      "display_name": "Python 3"
    },
    "language_info": {
      "name": "python"
    }
  },
  "cells": [
    {
      "cell_type": "code",
      "execution_count": 1,
      "metadata": {
        "id": "zqkP7WEyCYY9"
      },
      "outputs": [],
      "source": [
        "import numpy as np\n",
        "import pandas as pd\n",
        "import matplotlib.pyplot as pp"
      ]
    },
    {
      "cell_type": "code",
      "source": [
        "import seaborn as sb"
      ],
      "metadata": {
        "id": "7L_QEd0KCq_x"
      },
      "execution_count": 2,
      "outputs": []
    },
    {
      "cell_type": "code",
      "source": [
        "u_f = sb.load_dataset('flights')"
      ],
      "metadata": {
        "id": "iQUy_UNcCu4o"
      },
      "execution_count": 3,
      "outputs": []
    },
    {
      "cell_type": "code",
      "source": [
        "m01 = u_f.passengers[(u_f.month=='Jan')].sum()"
      ],
      "metadata": {
        "id": "ZHF2ReUiCxc-"
      },
      "execution_count": 4,
      "outputs": []
    },
    {
      "cell_type": "code",
      "source": [
        "m01"
      ],
      "metadata": {
        "colab": {
          "base_uri": "https://localhost:8080/"
        },
        "id": "GUaluw4mDeN5",
        "outputId": "e97dcf5a-3891-4fff-8269-6e05bd7a045e"
      },
      "execution_count": 5,
      "outputs": [
        {
          "output_type": "execute_result",
          "data": {
            "text/plain": [
              "2901"
            ]
          },
          "metadata": {},
          "execution_count": 5
        }
      ]
    },
    {
      "cell_type": "code",
      "source": [
        "m02 = u_f.passengers[(u_f.month=='Feb')].sum()\n",
        "m03  = u_f.passengers[(u_f.month=='Mar')].sum()\n",
        "m04 = u_f.passengers[(u_f.month=='Apr')].sum() \n",
        "m05 =  u_f.passengers[(u_f.month=='May')].sum()  \n",
        "m06 = u_f.passengers[(u_f.month=='Jun')].sum()\n",
        "m07 = u_f.passengers[(u_f.month=='Jul')].sum()\n",
        "m08 = u_f.passengers[(u_f.month=='Aug')].sum()\n",
        "m09 = u_f.passengers[(u_f.month=='Sep')].sum()\n",
        "m10 = u_f.passengers[(u_f.month=='Oct')].sum()\n",
        "m11 = u_f.passengers[(u_f.month=='Nov')].sum()\n",
        "m12 = u_f.passengers[(u_f.month=='Dec')].sum()"
      ],
      "metadata": {
        "id": "4aIuSep9DnUU"
      },
      "execution_count": 7,
      "outputs": []
    },
    {
      "cell_type": "code",
      "source": [
        "pp.title(\"P. - months\")\n",
        "pp.barh('Jan',m01)\n",
        "pp.barh('Feb',m02)\n",
        "pp.barh('Mar',m03)\n",
        "pp.barh('Apr',m04)\n",
        "pp.barh('May',m05)\n",
        "pp.barh('Jun',m06)\n",
        "pp.barh('Jul',m07)\n",
        "pp.barh('Aug',m08)\n",
        "pp.barh('Sep',m09)\n",
        "pp.barh('Oct',m10)\n",
        "pp.barh('Nov',m11)\n",
        "pp.barh('Dec',m12)"
      ],
      "metadata": {
        "colab": {
          "base_uri": "https://localhost:8080/",
          "height": 298
        },
        "id": "fh3n7xMdEknS",
        "outputId": "ce16ab6a-6900-4ab7-fd35-983186938167"
      },
      "execution_count": 8,
      "outputs": [
        {
          "output_type": "execute_result",
          "data": {
            "text/plain": [
              "<BarContainer object of 1 artists>"
            ]
          },
          "metadata": {},
          "execution_count": 8
        },
        {
          "output_type": "display_data",
          "data": {
            "text/plain": [
              "<Figure size 432x288 with 1 Axes>"
            ],
            "image/png": "[encoded data removed]"
          },
          "metadata": {
            "needs_background": "light"
          }
        }
      ]
    },
    {
      "cell_type": "code",
      "source": [
        "mtz =  [ m01,m02,m03,m04,m05,m06,m07,m08,m09,m10,m11,m12 ]"
      ],
      "metadata": {
        "id": "FuUKfHr_Fb-M"
      },
      "execution_count": 9,
      "outputs": []
    },
    {
      "cell_type": "code",
      "source": [
        "sb.barplot(x='year',y='passengers',data=u_f)"
      ],
      "metadata": {
        "colab": {
          "base_uri": "https://localhost:8080/",
          "height": 296
        },
        "id": "HXxFYSL_Gt8E",
        "outputId": "5d3287aa-cf30-4a20-8572-1e81e994aeba"
      },
      "execution_count": 11,
      "outputs": [
        {
          "output_type": "execute_result",
          "data": {
            "text/plain": [
              "<matplotlib.axes._subplots.AxesSubplot at 0x7f12f91f5b50>"
            ]
          },
          "metadata": {},
          "execution_count": 11
        },
        {
          "output_type": "display_data",
          "data": {
            "text/plain": [
              "<Figure size 432x288 with 1 Axes>"
            ],
            "image/png": "[encoded data removed]"
          },
          "metadata": {
            "needs_background": "light"
          }
        }
      ]
    },
    {
      "cell_type": "code",
      "source": [
        ""
      ],
      "metadata": {
        "id": "VWlAO6hdHHoS"
      },
      "execution_count": null,
      "outputs": []
    }
  ]
}